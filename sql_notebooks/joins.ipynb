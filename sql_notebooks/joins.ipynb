{
 "cells": [
  {
   "cell_type": "markdown",
   "id": "5a7d6a39",
   "metadata": {},
   "source": [
    "# Joins com DuckDB\n",
    "\n",
    "* [FROM and JOIN Clauses](https://duckdb.org/docs/stable/sql/query_syntax/from)\n",
    "* [NULL Values](https://duckdb.org/docs/stable/sql/data_types/nulls)"
   ]
  },
  {
   "cell_type": "code",
   "execution_count": null,
   "id": "435598c9",
   "metadata": {},
   "outputs": [],
   "source": [
    "import duckdb"
   ]
  },
  {
   "cell_type": "code",
   "execution_count": null,
   "id": "e31c3f87",
   "metadata": {},
   "outputs": [],
   "source": [
    "conn = duckdb.connect()"
   ]
  },
  {
   "cell_type": "code",
   "execution_count": null,
   "id": "705464a4",
   "metadata": {},
   "outputs": [],
   "source": [
    "conn.execute(\"\"\"\n",
    "    CREATE OR REPLACE TABLE pessoas (\n",
    "        id INTEGER,\n",
    "        nome TEXT,\n",
    "        idade INTEGER,\n",
    "        cidade_id INTEGER\n",
    "    );\n",
    "\"\"\")\n",
    "\n",
    "conn.execute(\"\"\"\n",
    "    CREATE OR REPLACE TABLE cidades (\n",
    "        id INTEGER,\n",
    "        nome TEXT,\n",
    "        estado TEXT\n",
    "    );\n",
    "\"\"\")"
   ]
  },
  {
   "cell_type": "code",
   "execution_count": null,
   "id": "29b75e41",
   "metadata": {},
   "outputs": [],
   "source": [
    "conn.execute(\"\"\"\n",
    "    INSERT INTO pessoas VALUES\n",
    "        (1, 'Ana', 22, 1),\n",
    "        (2, 'Bruno', 35, 2),\n",
    "        (3, 'Carla', 19, 3),\n",
    "        (4, 'Daniel', 40, 2),\n",
    "        (5, 'Eduarda', 28, NULL);\n",
    "\"\"\")\n",
    "\n",
    "conn.execute(\"\"\"\n",
    "    INSERT INTO cidades VALUES\n",
    "        (1, 'Rio de Janeiro', 'RJ'),\n",
    "        (2, 'São Paulo', 'SP'),\n",
    "        (3, 'Belo Horizonte', 'MG'),\n",
    "        (4, 'Curitiba', 'PR'),\n",
    "        (5, 'Porto Alegre', 'RS');\n",
    "\"\"\")"
   ]
  },
  {
   "cell_type": "markdown",
   "id": "73323c5a",
   "metadata": {},
   "source": [
    "# INNER JOIN\n",
    "retorna linhas onde a condição de junção é satisfeita em ambas as tabelas."
   ]
  },
  {
   "cell_type": "code",
   "execution_count": null,
   "id": "34e2089c",
   "metadata": {},
   "outputs": [],
   "source": [
    "display(conn.execute(\"\"\"\n",
    "    SELECT\n",
    "        p.nome,\n",
    "        p.idade,\n",
    "        c.nome   AS cidade,\n",
    "        c.estado\n",
    "    FROM pessoas p\n",
    "    INNER JOIN cidades c\n",
    "        ON p.cidade_id = c.id;\n",
    "\"\"\").df())"
   ]
  },
  {
   "cell_type": "markdown",
   "id": "38877074",
   "metadata": {},
   "source": [
    "# LEFT JOIN\n",
    "Retorna todas as linhas da tabela à esquerda e as correspondentes da tabela à direita. Se não houver correspondência, os valores da tabela da direita serão NULL."
   ]
  },
  {
   "cell_type": "code",
   "execution_count": null,
   "id": "2fc2436a",
   "metadata": {},
   "outputs": [],
   "source": [
    "display(conn.execute(\"\"\"\n",
    "    SELECT\n",
    "        p.nome,\n",
    "        p.idade,\n",
    "        c.nome   AS cidade,\n",
    "        c.estado\n",
    "    FROM pessoas p\n",
    "    LEFT JOIN cidades c\n",
    "        ON p.cidade_id = c.id;\n",
    "\"\"\").df())"
   ]
  },
  {
   "cell_type": "markdown",
   "id": "918f51fb",
   "metadata": {},
   "source": [
    "# RIGHT JOIN\n",
    "Retorna todas as linhas da tabela à direita e as correspondentes da tabela à esquerda. Onde não houver correspondência, os valores da tabela da esquerda serão NULL."
   ]
  },
  {
   "cell_type": "code",
   "execution_count": null,
   "id": "9f574ba9",
   "metadata": {},
   "outputs": [],
   "source": [
    "display(conn.execute(\"\"\"\n",
    "    SELECT\n",
    "        p.nome,\n",
    "        p.idade,\n",
    "        c.nome AS cidade,\n",
    "        c.estado\n",
    "    FROM pessoas p\n",
    "    RIGHT JOIN cidades c\n",
    "        ON p.cidade_id = c.id;\n",
    "\"\"\").df())"
   ]
  },
  {
   "cell_type": "markdown",
   "id": "c451317c",
   "metadata": {},
   "source": [
    "# FULL OUTER JOIN\n",
    "Retorna todas as linhas de ambas as tabelas. Onde não houver correspondência, os campos ausentes são preenchidos com NULL."
   ]
  },
  {
   "cell_type": "code",
   "execution_count": null,
   "id": "5facb2bd",
   "metadata": {},
   "outputs": [],
   "source": [
    "display(conn.execute(\"\"\"\n",
    "    SELECT\n",
    "        p.nome,\n",
    "        p.idade,\n",
    "        c.nome   AS cidade,\n",
    "        c.estado\n",
    "    FROM pessoas p\n",
    "    FULL OUTER JOIN cidades c\n",
    "        ON p.cidade_id = c.id;\n",
    "\"\"\").df())"
   ]
  },
  {
   "cell_type": "markdown",
   "id": "fdc3469a",
   "metadata": {},
   "source": [
    "# Produto cartesiano (CROSS JOIN ou JOIN sem ON)\n",
    "O produto cartesiano retorna todas as combinações possíveis entre os registros das duas tabelas.\n",
    "\n",
    "Se pessoas tem 5 linhas e cidades tem 5 linhas, o resultado terá 25 linhas (5 × 5)."
   ]
  },
  {
   "cell_type": "code",
   "execution_count": null,
   "id": "b2f27d7b",
   "metadata": {},
   "outputs": [],
   "source": [
    "display(conn.execute(\"\"\"\n",
    "    SELECT\n",
    "        p.nome AS pessoa,\n",
    "        c.nome AS cidade\n",
    "    FROM pessoas p, cidades c;\n",
    "\"\"\").df())"
   ]
  },
  {
   "cell_type": "code",
   "execution_count": null,
   "id": "dd8e2ebd",
   "metadata": {},
   "outputs": [],
   "source": [
    "display(conn.execute(\"\"\"\n",
    "    SELECT\n",
    "        p.nome AS pessoa,\n",
    "        c.nome AS cidade\n",
    "    FROM pessoas p\n",
    "    CROSS JOIN cidades c;\n",
    "\"\"\").df())"
   ]
  },
  {
   "cell_type": "markdown",
   "id": "33cceb67",
   "metadata": {},
   "source": [
    "# Produto cartesiano parcial com chaves duplicadas na tabela da direita\n",
    "Quando há duplicatas na chave da tabela da direita, o JOIN cria um produto cartesiano parcial entre os registros com o mesmo valor."
   ]
  },
  {
   "cell_type": "code",
   "execution_count": null,
   "id": "944083cf",
   "metadata": {},
   "outputs": [],
   "source": [
    "# Adiciona duplicata na tabela cidades (cidade_id = 2)\n",
    "conn.execute(\"\"\"\n",
    "    INSERT INTO cidades VALUES\n",
    "        (2, 'São Paulo (Duplicata)', 'SP');\n",
    "\"\"\")\n"
   ]
  },
  {
   "cell_type": "code",
   "execution_count": null,
   "id": "885f428b",
   "metadata": {},
   "outputs": [],
   "source": [
    "display(conn.execute(\"\"\"\n",
    "    SELECT\n",
    "        p.nome AS pessoa,\n",
    "        c.nome AS cidade\n",
    "    FROM pessoas p\n",
    "    INNER JOIN cidades c ON p.cidade_id = c.id\n",
    "\"\"\").df())"
   ]
  },
  {
   "cell_type": "code",
   "execution_count": null,
   "id": "26f51b5b",
   "metadata": {},
   "outputs": [],
   "source": [
    "conn.close()"
   ]
  }
 ],
 "metadata": {
  "kernelspec": {
   "display_name": ".venv",
   "language": "python",
   "name": "python3"
  },
  "language_info": {
   "codemirror_mode": {
    "name": "ipython",
    "version": 3
   },
   "file_extension": ".py",
   "mimetype": "text/x-python",
   "name": "python",
   "nbconvert_exporter": "python",
   "pygments_lexer": "ipython3",
   "version": "3.13.3"
  }
 },
 "nbformat": 4,
 "nbformat_minor": 5
}
