{
 "cells": [
  {
   "cell_type": "markdown",
   "id": "5a7d6a39",
   "metadata": {},
   "source": [
    "# Window Functions com DuckDB\n",
    "\n",
    "* [Window Functions](https://duckdb.org/docs/stable/sql/functions/window_functions)"
   ]
  },
  {
   "cell_type": "code",
   "execution_count": null,
   "id": "435598c9",
   "metadata": {},
   "outputs": [],
   "source": [
    "import duckdb"
   ]
  },
  {
   "cell_type": "code",
   "execution_count": null,
   "id": "e31c3f87",
   "metadata": {},
   "outputs": [],
   "source": [
    "conn = duckdb.connect()"
   ]
  },
  {
   "cell_type": "code",
   "execution_count": null,
   "id": "705464a4",
   "metadata": {},
   "outputs": [],
   "source": [
    "conn.execute(\"\"\"\n",
    "    CREATE OR REPLACE TABLE vendas (\n",
    "        id INTEGER,\n",
    "        vendedor TEXT,\n",
    "        regiao TEXT,\n",
    "        valor NUMERIC,\n",
    "        data DATE\n",
    "    );\n",
    "\"\"\")"
   ]
  },
  {
   "cell_type": "code",
   "execution_count": null,
   "id": "c6291991",
   "metadata": {},
   "outputs": [],
   "source": [
    "dados = [\n",
    "    (1, 'Ana',    'Sul',   1000, '2024-01-01'),\n",
    "    (2, 'Bruno',  'Sul',   1500, '2024-01-02'),\n",
    "    (3, 'Carla',  'Norte', 1200, '2024-01-03'),\n",
    "    (4, 'Ana',    'Sul',   900,  '2024-01-04'),\n",
    "    (5, 'Bruno',  'Sul',   2000, '2024-01-05'),\n",
    "    (6, 'Carla',  'Norte', 1100, '2024-01-06'),\n",
    "    (7, 'Ana',    'Sul',   1500, '2024-01-07')\n",
    "]"
   ]
  },
  {
   "cell_type": "markdown",
   "id": "05880240",
   "metadata": {},
   "source": [
    "* [Prepared Statements](https://duckdb.org/docs/stable/clients/python/dbapi#prepared-statements)"
   ]
  },
  {
   "cell_type": "code",
   "execution_count": null,
   "id": "29b75e41",
   "metadata": {},
   "outputs": [],
   "source": [
    "conn.executemany(\n",
    "    \"INSERT INTO vendas VALUES (?, ?, ?, ?, ?);\",\n",
    "    dados\n",
    ")"
   ]
  },
  {
   "cell_type": "markdown",
   "id": "73323c5a",
   "metadata": {},
   "source": [
    "* [Aggregate Window Functions](https://duckdb.org/docs/stable/sql/functions/window_functions#aggregate-window-functions)"
   ]
  },
  {
   "cell_type": "code",
   "execution_count": null,
   "id": "34e2089c",
   "metadata": {},
   "outputs": [],
   "source": [
    "display(conn.execute(\"\"\"\n",
    "    SELECT\n",
    "        vendedor,\n",
    "        data,\n",
    "        valor,\n",
    "        SUM(valor) OVER (PARTITION BY vendedor ORDER BY data) AS soma_acumulada\n",
    "    FROM vendas;\n",
    "\"\"\").df())"
   ]
  },
  {
   "cell_type": "markdown",
   "id": "38877074",
   "metadata": {},
   "source": [
    "* [RANK](https://duckdb.org/docs/stable/sql/functions/window_functions#rankorder-by-ordering)"
   ]
  },
  {
   "cell_type": "code",
   "execution_count": null,
   "id": "2fc2436a",
   "metadata": {},
   "outputs": [],
   "source": [
    "display(conn.execute(\"\"\"\n",
    "    SELECT\n",
    "        vendedor,\n",
    "        valor,\n",
    "        regiao,\n",
    "        RANK() OVER (PARTITION BY regiao ORDER BY valor DESC) AS ranking\n",
    "    FROM vendas;\n",
    "\"\"\").df())"
   ]
  },
  {
   "cell_type": "markdown",
   "id": "918f51fb",
   "metadata": {},
   "source": [
    "* [LAG](https://duckdb.org/docs/stable/sql/functions/window_functions#lagexpr-offset-default-order-by-ordering-ignore-nulls)"
   ]
  },
  {
   "cell_type": "code",
   "execution_count": null,
   "id": "9f574ba9",
   "metadata": {},
   "outputs": [],
   "source": [
    "display(conn.execute(\"\"\"\n",
    "    SELECT\n",
    "        vendedor,\n",
    "        data,\n",
    "        valor,\n",
    "        LAG(valor) OVER (PARTITION BY vendedor ORDER BY data) AS valor_anterior\n",
    "    FROM vendas;\n",
    "\"\"\").df())"
   ]
  },
  {
   "cell_type": "markdown",
   "id": "c451317c",
   "metadata": {},
   "source": [
    "* [NTILE](https://duckdb.org/docs/stable/sql/functions/window_functions#ntilenum_buckets-order-by-ordering)"
   ]
  },
  {
   "cell_type": "code",
   "execution_count": null,
   "id": "5facb2bd",
   "metadata": {},
   "outputs": [],
   "source": [
    "display(conn.execute(\"\"\"\n",
    "    SELECT\n",
    "        vendedor,\n",
    "        valor,\n",
    "        NTILE(4) OVER (ORDER BY valor DESC) AS quartil\n",
    "    FROM vendas;\n",
    "\"\"\").df())"
   ]
  },
  {
   "cell_type": "code",
   "execution_count": null,
   "id": "d32d4d99",
   "metadata": {},
   "outputs": [],
   "source": [
    "conn.close()"
   ]
  }
 ],
 "metadata": {
  "kernelspec": {
   "display_name": ".venv",
   "language": "python",
   "name": "python3"
  },
  "language_info": {
   "codemirror_mode": {
    "name": "ipython",
    "version": 3
   },
   "file_extension": ".py",
   "mimetype": "text/x-python",
   "name": "python",
   "nbconvert_exporter": "python",
   "pygments_lexer": "ipython3",
   "version": "3.13.3"
  }
 },
 "nbformat": 4,
 "nbformat_minor": 5
}
