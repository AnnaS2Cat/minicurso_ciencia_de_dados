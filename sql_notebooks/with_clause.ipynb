{
 "cells": [
  {
   "cell_type": "markdown",
   "id": "5a7d6a39",
   "metadata": {},
   "source": [
    "# CTEs (WITH Clauses) com DuckDB\n",
    "\n",
    "* [WITH Clause](https://duckdb.org/docs/stable/sql/query_syntax/with)"
   ]
  },
  {
   "cell_type": "code",
   "execution_count": null,
   "id": "435598c9",
   "metadata": {},
   "outputs": [],
   "source": [
    "import duckdb"
   ]
  },
  {
   "cell_type": "code",
   "execution_count": null,
   "id": "e31c3f87",
   "metadata": {},
   "outputs": [],
   "source": [
    "conn = duckdb.connect()"
   ]
  },
  {
   "cell_type": "code",
   "execution_count": null,
   "id": "705464a4",
   "metadata": {},
   "outputs": [],
   "source": [
    "conn.execute(\"\"\"\n",
    "    CREATE OR REPLACE TABLE vendas (\n",
    "        id INTEGER,\n",
    "        vendedor TEXT,\n",
    "        regiao TEXT,\n",
    "        valor NUMERIC,\n",
    "        data DATE\n",
    "    );\n",
    "\"\"\")"
   ]
  },
  {
   "cell_type": "code",
   "execution_count": null,
   "id": "c6291991",
   "metadata": {},
   "outputs": [],
   "source": [
    "dados = [\n",
    "    (1, 'Ana',    'Sul',   1000, '2024-01-01'),\n",
    "    (2, 'Bruno',  'Sul',   1500, '2024-01-02'),\n",
    "    (3, 'Carla',  'Norte', 1200, '2024-01-03'),\n",
    "    (4, 'Ana',    'Sul',   900,  '2024-01-04'),\n",
    "    (5, 'Bruno',  'Sul',   2000, '2024-01-05'),\n",
    "    (6, 'Carla',  'Norte', 1100, '2024-01-06'),\n",
    "    (7, 'Ana',    'Sul',   1300, '2024-01-07')\n",
    "]"
   ]
  },
  {
   "cell_type": "code",
   "execution_count": null,
   "id": "29b75e41",
   "metadata": {},
   "outputs": [],
   "source": [
    "conn.executemany(\n",
    "    \"INSERT INTO vendas VALUES (?, ?, ?, ?, ?);\",\n",
    "    dados\n",
    ")"
   ]
  },
  {
   "cell_type": "markdown",
   "id": "73323c5a",
   "metadata": {},
   "source": [
    "# Maior venda por região usando ROW_NUMBER"
   ]
  },
  {
   "cell_type": "code",
   "execution_count": null,
   "id": "e95ef8ef",
   "metadata": {},
   "outputs": [],
   "source": [
    "display(conn.execute(\"\"\"\n",
    "    SELECT \n",
    "        *\n",
    "    FROM (\n",
    "        SELECT *,\n",
    "            ROW_NUMBER() OVER (PARTITION BY regiao ORDER BY valor DESC) AS posicao\n",
    "        FROM vendas\n",
    "    ) WHERE posicao = 1;\n",
    "\"\"\").df())"
   ]
  },
  {
   "cell_type": "code",
   "execution_count": null,
   "id": "34e2089c",
   "metadata": {},
   "outputs": [],
   "source": [
    "display(conn.execute(\"\"\"\n",
    "    WITH vendas_ranked AS (\n",
    "        SELECT *,\n",
    "            ROW_NUMBER() OVER (PARTITION BY regiao ORDER BY valor DESC) AS posicao\n",
    "        FROM vendas\n",
    "    )\n",
    "    SELECT\n",
    "        *\n",
    "    FROM vendas_ranked\n",
    "    WHERE posicao = 1;\n",
    "\"\"\").df())"
   ]
  },
  {
   "cell_type": "markdown",
   "id": "38877074",
   "metadata": {},
   "source": [
    "# Acima da média por região"
   ]
  },
  {
   "cell_type": "code",
   "execution_count": null,
   "id": "2fc2436a",
   "metadata": {},
   "outputs": [],
   "source": [
    "display(conn.execute(\"\"\"\n",
    "    WITH media_por_regiao AS (\n",
    "        SELECT\n",
    "            regiao,\n",
    "            AVG(valor) AS media_vendas\n",
    "        FROM vendas\n",
    "        GROUP BY regiao\n",
    "    )\n",
    "    SELECT\n",
    "        v.vendedor,\n",
    "        v.valor,\n",
    "        v.regiao,\n",
    "        m.media_vendas\n",
    "    FROM vendas v\n",
    "    JOIN media_por_regiao m ON v.regiao = m.regiao\n",
    "    WHERE v.valor > m.media_vendas;\n",
    "\"\"\").df())"
   ]
  },
  {
   "cell_type": "markdown",
   "id": "918f51fb",
   "metadata": {},
   "source": [
    "# CTEs encadeadas: média e soma por região"
   ]
  },
  {
   "cell_type": "code",
   "execution_count": null,
   "id": "9f574ba9",
   "metadata": {},
   "outputs": [],
   "source": [
    "display(conn.execute(\"\"\"\n",
    "    WITH media AS (\n",
    "        SELECT \n",
    "            regiao,\n",
    "            AVG(valor) AS media_valor\n",
    "        FROM vendas\n",
    "        GROUP BY regiao\n",
    "    ),\n",
    "    soma AS (\n",
    "        SELECT\n",
    "            regiao,\n",
    "            SUM(valor) AS soma_valor\n",
    "        FROM vendas\n",
    "        GROUP BY regiao\n",
    "    )\n",
    "    SELECT\n",
    "        m.regiao,\n",
    "        m.media_valor,\n",
    "        s.soma_valor\n",
    "    FROM media m\n",
    "    JOIN soma s ON m.regiao = s.regiao;\n",
    "\"\"\").df())"
   ]
  },
  {
   "cell_type": "code",
   "execution_count": null,
   "id": "06a60179",
   "metadata": {},
   "outputs": [],
   "source": [
    "conn.close()"
   ]
  }
 ],
 "metadata": {
  "kernelspec": {
   "display_name": ".venv",
   "language": "python",
   "name": "python3"
  },
  "language_info": {
   "codemirror_mode": {
    "name": "ipython",
    "version": 3
   },
   "file_extension": ".py",
   "mimetype": "text/x-python",
   "name": "python",
   "nbconvert_exporter": "python",
   "pygments_lexer": "ipython3",
   "version": "3.13.3"
  }
 },
 "nbformat": 4,
 "nbformat_minor": 5
}
