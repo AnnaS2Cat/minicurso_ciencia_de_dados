{
 "cells": [
  {
   "cell_type": "markdown",
   "id": "5a7d6a39",
   "metadata": {},
   "source": [
    "# SQL Básico com DuckDB"
   ]
  },
  {
   "cell_type": "markdown",
   "id": "d50fb315",
   "metadata": {},
   "source": [
    "## Documentação da API em Python\n",
    "Uma API (Application Programming Interface ou Interface de Programação de Aplicações) é um conjunto de regras e protocolos que permite que diferentes softwares se comuniquem entre si. Simplificando, uma API atua como um intermediário, permitindo que um aplicativo acesse dados ou funcionalidades de outro sem que o primeiro precise conhecer os detalhes internos do segundo. \n",
    "* [DuckDB Python API](https://duckdb.org/docs/stable/clients/python/overview)"
   ]
  },
  {
   "cell_type": "code",
   "execution_count": null,
   "id": "435598c9",
   "metadata": {},
   "outputs": [],
   "source": [
    "import duckdb"
   ]
  },
  {
   "cell_type": "markdown",
   "id": "a7961329",
   "metadata": {},
   "source": [
    "* [Connection Options](https://duckdb.org/docs/stable/clients/python/overview#connection-options)"
   ]
  },
  {
   "cell_type": "code",
   "execution_count": null,
   "id": "e31c3f87",
   "metadata": {},
   "outputs": [],
   "source": [
    "conn = duckdb.connect()"
   ]
  },
  {
   "cell_type": "markdown",
   "id": "5c4c5431",
   "metadata": {},
   "source": [
    "* [CREATE TABLE Statement](https://duckdb.org/docs/stable/sql/statements/create_table)"
   ]
  },
  {
   "cell_type": "code",
   "execution_count": null,
   "id": "bd439ebd",
   "metadata": {},
   "outputs": [],
   "source": [
    "conn.execute(\"\"\"\n",
    "    CREATE TABLE pessoas (\n",
    "        nome TEXT,\n",
    "        idade INTEGER,\n",
    "        cidade TEXT\n",
    "    );\n",
    "\"\"\")"
   ]
  },
  {
   "cell_type": "markdown",
   "id": "461ba9ff",
   "metadata": {},
   "source": [
    "* [INSERT Statement](https://duckdb.org/docs/stable/sql/statements/insert)"
   ]
  },
  {
   "cell_type": "code",
   "execution_count": null,
   "id": "36ca0aa3",
   "metadata": {},
   "outputs": [],
   "source": [
    "conn.execute(\"\"\"\n",
    "    INSERT INTO pessoas VALUES\n",
    "        ('Ana', 22, 'Rio de Janeiro'),\n",
    "        ('Bruno', 35, 'São Paulo'),\n",
    "        ('Carla', 19, 'Belo Horizonte'),\n",
    "        ('Daniel', 40, 'São Paulo'),\n",
    "        ('Eduarda', 28, 'Curitiba');\n",
    "\"\"\")"
   ]
  },
  {
   "cell_type": "markdown",
   "id": "199fc8d6",
   "metadata": {},
   "source": [
    "* [SELECT Statement](https://duckdb.org/docs/stable/sql/statements/select)"
   ]
  },
  {
   "cell_type": "code",
   "execution_count": null,
   "id": "9b1d4856",
   "metadata": {},
   "outputs": [],
   "source": [
    "display(conn.execute(\"\"\"\n",
    "    SELECT\n",
    "        * \n",
    "    FROM pessoas\n",
    "\"\"\").df())"
   ]
  },
  {
   "cell_type": "markdown",
   "id": "2378041f",
   "metadata": {},
   "source": [
    "* [WHERE Clause](https://duckdb.org/docs/stable/sql/query_syntax/where)"
   ]
  },
  {
   "cell_type": "code",
   "execution_count": null,
   "id": "d505893c",
   "metadata": {},
   "outputs": [],
   "source": [
    "display(conn.execute(\"\"\"\n",
    "    SELECT\n",
    "        *\n",
    "    FROM pessoas \n",
    "    WHERE idade > 30\n",
    "\"\"\").df())"
   ]
  },
  {
   "cell_type": "code",
   "execution_count": null,
   "id": "6b8eb69b",
   "metadata": {},
   "outputs": [],
   "source": [
    "display(conn.execute(\"\"\"\n",
    "    SELECT\n",
    "        *\n",
    "    FROM pessoas \n",
    "    WHERE idade IN (19, 40)\n",
    "\"\"\").df())"
   ]
  },
  {
   "cell_type": "code",
   "execution_count": null,
   "id": "59e4e3f6",
   "metadata": {},
   "outputs": [],
   "source": [
    "display(conn.execute(\"\"\"\n",
    "    SELECT\n",
    "        *\n",
    "    FROM pessoas \n",
    "    WHERE idade BETWEEN 22 AND 35\n",
    "\"\"\").df())"
   ]
  },
  {
   "cell_type": "markdown",
   "id": "e9e648d1",
   "metadata": {},
   "source": [
    "* [Pattern Matching](https://duckdb.org/docs/stable/sql/functions/pattern_matching)"
   ]
  },
  {
   "cell_type": "code",
   "execution_count": null,
   "id": "7ee54928",
   "metadata": {},
   "outputs": [],
   "source": [
    "display(conn.execute(\"\"\"\n",
    "    SELECT\n",
    "        *\n",
    "    FROM pessoas \n",
    "    WHERE nome LIKE '%a'\n",
    "\"\"\").df())"
   ]
  },
  {
   "cell_type": "markdown",
   "id": "7bb8fc85",
   "metadata": {},
   "source": [
    "* [ORDER BY Clause](https://duckdb.org/docs/stable/sql/query_syntax/orderby)"
   ]
  },
  {
   "cell_type": "code",
   "execution_count": null,
   "id": "6bfb1b4e",
   "metadata": {},
   "outputs": [],
   "source": [
    "display(conn.execute(\"\"\"\n",
    "    SELECT\n",
    "        *\n",
    "    FROM pessoas\n",
    "    ORDER BY idade DESC\n",
    "\"\"\").df())"
   ]
  },
  {
   "cell_type": "markdown",
   "id": "f0ddccb4",
   "metadata": {},
   "source": [
    "* [LIMIT and OFFSET Clauses](https://duckdb.org/docs/stable/sql/query_syntax/limit)"
   ]
  },
  {
   "cell_type": "code",
   "execution_count": null,
   "id": "caa73d73",
   "metadata": {},
   "outputs": [],
   "source": [
    "display(conn.execute(\"\"\"\n",
    "    SELECT\n",
    "        *\n",
    "    FROM pessoas\n",
    "    LIMIT 3\n",
    "\"\"\").df())"
   ]
  },
  {
   "cell_type": "code",
   "execution_count": null,
   "id": "8b89f4d1",
   "metadata": {},
   "outputs": [],
   "source": [
    "display(conn.execute(\"\"\"\n",
    "    SELECT\n",
    "        *\n",
    "    FROM pessoas\n",
    "    LIMIT 3\n",
    "    OFFSET 2\n",
    "\"\"\").df())"
   ]
  },
  {
   "cell_type": "markdown",
   "id": "10f8b301",
   "metadata": {},
   "source": [
    "* [Aggregate Functions](https://duckdb.org/docs/stable/sql/functions/aggregates)"
   ]
  },
  {
   "cell_type": "code",
   "execution_count": null,
   "id": "82fcd019",
   "metadata": {},
   "outputs": [],
   "source": [
    "display(conn.execute(\"\"\"\n",
    "    SELECT\n",
    "        SUM(idade) as soma_das_idades\n",
    "    FROM pessoas\n",
    "\"\"\").df())"
   ]
  },
  {
   "cell_type": "markdown",
   "id": "dc9fe94c",
   "metadata": {},
   "source": [
    "* [GROUP BY Clause](https://duckdb.org/docs/stable/sql/query_syntax/groupby)"
   ]
  },
  {
   "cell_type": "code",
   "execution_count": null,
   "id": "a0a349ab",
   "metadata": {},
   "outputs": [],
   "source": [
    "display(conn.execute(\"\"\"\n",
    "    SELECT\n",
    "        cidade,\n",
    "        COUNT(*) as total\n",
    "    FROM pessoas\n",
    "    GROUP BY cidade\n",
    "\"\"\").df())"
   ]
  },
  {
   "cell_type": "markdown",
   "id": "f88557a7",
   "metadata": {},
   "source": [
    "* [HAVING Clause](https://duckdb.org/docs/stable/sql/query_syntax/having)"
   ]
  },
  {
   "cell_type": "code",
   "execution_count": null,
   "id": "3ee03dc8",
   "metadata": {},
   "outputs": [],
   "source": [
    "display(conn.execute(\"\"\"\n",
    "    SELECT\n",
    "        cidade,\n",
    "        COUNT(*) as total\n",
    "    FROM pessoas\n",
    "    GROUP BY cidade\n",
    "    HAVING total = 1\n",
    "\"\"\").df())"
   ]
  },
  {
   "cell_type": "markdown",
   "id": "e4d720a3",
   "metadata": {},
   "source": [
    "* [CASE Expression](https://duckdb.org/docs/stable/sql/expressions/case)"
   ]
  },
  {
   "cell_type": "code",
   "execution_count": null,
   "id": "0c2d5416",
   "metadata": {},
   "outputs": [],
   "source": [
    "display(conn.execute(\"\"\"\n",
    "    SELECT *,\n",
    "        CASE\n",
    "            WHEN idade < 25 THEN 'jovem'\n",
    "            WHEN idade BETWEEN 25 AND 39 THEN 'adulto'\n",
    "            ELSE 'idoso'\n",
    "        END AS faixa_etaria\n",
    "    FROM pessoas\n",
    "\"\"\").df())"
   ]
  },
  {
   "cell_type": "code",
   "execution_count": null,
   "id": "29982171",
   "metadata": {},
   "outputs": [],
   "source": [
    "conn.close()"
   ]
  }
 ],
 "metadata": {
  "kernelspec": {
   "display_name": ".venv",
   "language": "python",
   "name": "python3"
  },
  "language_info": {
   "codemirror_mode": {
    "name": "ipython",
    "version": 3
   },
   "file_extension": ".py",
   "mimetype": "text/x-python",
   "name": "python",
   "nbconvert_exporter": "python",
   "pygments_lexer": "ipython3",
   "version": "3.13.3"
  }
 },
 "nbformat": 4,
 "nbformat_minor": 5
}
