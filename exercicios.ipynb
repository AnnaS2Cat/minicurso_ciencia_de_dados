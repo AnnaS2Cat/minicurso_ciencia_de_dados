{
 "cells": [
  {
   "cell_type": "markdown",
   "id": "0a5185f1",
   "metadata": {},
   "source": [
    "# Exercícios do Minicurso\n",
    "\n",
    "## Quadro-resumo dos exercícios\n",
    "\n",
    "| Notebook               | Título do Exercício                                    | Objetivo Didático                                                                 |\n",
    "|------------------------|--------------------------------------------------------|-----------------------------------------------------------------------------------|\n",
    "| `basico.ipynb`         | Municípios prioritários para políticas públicas        | Filtrar e ordenar municípios com base em renda e número de famílias               |\n",
    "| `joins.ipynb`          | Infos Municípios prioritários para políticas públicas  | Adicionar as informações do município                                             |\n",
    "| `with_clause.ipynb`    | Mapeamento de famílias vulneráveis por município       | Cruzar tabelas e agregar famílias por município e perfil de instrução e renda     |\n",
    "| `window_functions.ipynb` | Desigualdade de renda dentro das regiões             | Usar funções de janela para classificar as regiões por desilgualdade              |\n",
    "\n",
    "---\n",
    "\n",
    "## Detalhamento dos exercícios\n",
    "\n",
    "### `basico.ipynb` – Municípios prioritários para políticas públicas\n",
    "\n",
    "Liste os **10 municípios** onde:\n",
    "- a **renda média familiar** é inferior a R$ 200, e  \n",
    "- há mais de 50 famílias cadastradas.\n",
    "\n",
    "Mostre:\n",
    "- `cd_ibge`, `renda_media`, `total_familias`  \n",
    "Ordene do menor para o maior valor médio de renda.\n",
    "\n",
    "---\n",
    "\n",
    "### `joins.ipynb` – Infos Municípios prioritários para políticas públicas\n",
    "\n",
    "Liste os **10 municípios** onde:\n",
    "- a **renda média familiar** é inferior a R$ 200, e  \n",
    "- há mais de 50 famílias cadastradas.\n",
    "- utilize a tabela de informações municípios do IBGE\n",
    "\n",
    "Mostre:\n",
    "- `municipio`, `uf`, `regiao`, `total_familias_em_risco`  \n",
    "Ordene do menor para o maior valor médio de renda.\n",
    "\n",
    "---\n",
    "\n",
    "### `with_clause.ipynb` – Mapeamento de famílias vulneráveis por município\n",
    "\n",
    "Liste os **10 municípios** com o maior número de famílias que:\n",
    "- possuem **renda média familiar inferior a R$ 200**, e  \n",
    "- têm **ao menos uma pessoa sem instrução formal** (`cod_curso_frequentou_pessoa_memb`).\n",
    "\n",
    "Mostre:\n",
    "- `municipio`, `uf`, `regiao`, `total_familias`  \n",
    "Ordene pelo maior número de famílias em risco.\n",
    "\n",
    "---\n",
    "\n",
    "### `window_functions.ipynb` – Desigualdade de renda dentro das regiões\n",
    "\n",
    "Calcule a média de renda das famílias por região\n",
    "- 10% que recebem menos\n",
    "- 10% que recebem mais\n",
    "- diferença entre as médias\n",
    "\n",
    "Mostre:\n",
    "- `regiao`, `b_10`, `t_10`, `desigualdade`  \n",
    "Ordene pelela maior desigualdade.\n"
   ]
  },
  {
   "cell_type": "markdown",
   "id": "9181fe19",
   "metadata": {},
   "source": [
    "# Resolução"
   ]
  },
  {
   "cell_type": "code",
   "execution_count": null,
   "id": "ec30b8d0",
   "metadata": {},
   "outputs": [],
   "source": [
    "from common import execute_query"
   ]
  },
  {
   "cell_type": "code",
   "execution_count": null,
   "id": "643edc7c",
   "metadata": {},
   "outputs": [],
   "source": [
    "execute_query(\"\"\"\n",
    "    SELECT\n",
    "        *\n",
    "    FROM familias\n",
    "    LIMIT 10;\n",
    "\"\"\")"
   ]
  },
  {
   "cell_type": "code",
   "execution_count": null,
   "id": "8ef8c0b9",
   "metadata": {},
   "outputs": [],
   "source": [
    "execute_query(\"\"\"\n",
    "    SELECT\n",
    "        *\n",
    "    FROM pessoas\n",
    "    LIMIT 10;\n",
    "\"\"\")"
   ]
  },
  {
   "cell_type": "code",
   "execution_count": null,
   "id": "9431403d",
   "metadata": {},
   "outputs": [],
   "source": [
    "execute_query(\"\"\"\n",
    "    SELECT\n",
    "        *\n",
    "    FROM ibge_municipios\n",
    "    LIMIT 10;\n",
    "\"\"\")"
   ]
  }
 ],
 "metadata": {
  "kernelspec": {
   "display_name": ".venv",
   "language": "python",
   "name": "python3"
  },
  "language_info": {
   "codemirror_mode": {
    "name": "ipython",
    "version": 3
   },
   "file_extension": ".py",
   "mimetype": "text/x-python",
   "name": "python",
   "nbconvert_exporter": "python",
   "pygments_lexer": "ipython3",
   "version": "3.13.3"
  }
 },
 "nbformat": 4,
 "nbformat_minor": 5
}
