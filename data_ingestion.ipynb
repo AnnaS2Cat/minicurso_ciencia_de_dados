{
 "cells": [
  {
   "cell_type": "code",
   "execution_count": null,
   "id": "f366f3dc",
   "metadata": {},
   "outputs": [],
   "source": [
    "from common import ingest_ibge_data, ingest_cad_unico_data, ingest_data_dictionary"
   ]
  },
  {
   "cell_type": "code",
   "execution_count": null,
   "id": "9a46903c",
   "metadata": {},
   "outputs": [],
   "source": [
    "ingest_ibge_data()"
   ]
  },
  {
   "cell_type": "code",
   "execution_count": null,
   "id": "4518107a",
   "metadata": {},
   "outputs": [],
   "source": [
    "ingest_cad_unico_data()"
   ]
  },
  {
   "cell_type": "code",
   "execution_count": null,
   "id": "ae8642df",
   "metadata": {},
   "outputs": [],
   "source": [
    "ingest_data_dictionary()"
   ]
  }
 ],
 "metadata": {
  "kernelspec": {
   "display_name": ".venv",
   "language": "python",
   "name": "python3"
  },
  "language_info": {
   "codemirror_mode": {
    "name": "ipython",
    "version": 3
   },
   "file_extension": ".py",
   "mimetype": "text/x-python",
   "name": "python",
   "nbconvert_exporter": "python",
   "pygments_lexer": "ipython3",
   "version": "3.13.3"
  }
 },
 "nbformat": 4,
 "nbformat_minor": 5
}
